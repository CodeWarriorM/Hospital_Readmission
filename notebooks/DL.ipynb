{
 "cells": [
  {
   "cell_type": "code",
   "execution_count": 1,
   "id": "22fc9d3e-bed3-40c7-86ef-eed2e693fdf8",
   "metadata": {},
   "outputs": [
    {
     "name": "stderr",
     "output_type": "stream",
     "text": [
      "2024-06-24 13:35:01.098448: I tensorflow/core/platform/cpu_feature_guard.cc:210] This TensorFlow binary is optimized to use available CPU instructions in performance-critical operations.\n",
      "To enable the following instructions: AVX2 AVX512F AVX512_VNNI FMA, in other operations, rebuild TensorFlow with the appropriate compiler flags.\n"
     ]
    }
   ],
   "source": [
    "import pandas as pd\n",
    "import numpy as np\n",
    "import matplotlib.pyplot as plt\n",
    "\n",
    "from sklearn.compose import ColumnTransformer, make_column_selector\n",
    "from sklearn.model_selection import train_test_split\n",
    "from sklearn.preprocessing import OneHotEncoder, LabelEncoder, MinMaxScaler \n",
    "from sklearn.pipeline import Pipeline, FunctionTransformer\n",
    "\n",
    "from tensorflow.keras.models import Sequential\n",
    "from tensorflow.keras.layers import Input, Dense, Dropout\n",
    "from tensorflow.keras.callbacks import EarlyStopping\n",
    "from sklearn.metrics import classification_report, roc_auc_score, roc_curve"
   ]
  },
  {
   "cell_type": "code",
   "execution_count": 2,
   "id": "f247a22a-c4ce-4e3c-97c8-ed2511f1cf78",
   "metadata": {},
   "outputs": [],
   "source": [
    "pd.set_option('display.max_columns', None)"
   ]
  },
  {
   "cell_type": "markdown",
   "id": "78a6ff3d-652c-4e92-9440-2e878fcaa9c9",
   "metadata": {},
   "source": [
    "## Data"
   ]
  },
  {
   "cell_type": "markdown",
   "id": "676b615a-4117-4c22-98ef-2bd4516f6739",
   "metadata": {},
   "source": [
    "### Google Colab (inaktiv)"
   ]
  },
  {
   "cell_type": "raw",
   "id": "bee00ae3-9eb5-41c6-a93b-5014ce508f85",
   "metadata": {},
   "source": [
    "from google.colab import drive \n",
    "drive.mount('/content/gdrive')"
   ]
  },
  {
   "cell_type": "raw",
   "id": "5595713a-beb8-4445-909a-885409982d6f",
   "metadata": {},
   "source": [
    "data = pd.read_csv('/content/gdrive/MyDrive/Colab Notebooks/hospital_readmission/raw_data/hospital_readmissions.csv')"
   ]
  },
  {
   "cell_type": "markdown",
   "id": "76c19798-b39f-4f71-8020-2b3f187536ba",
   "metadata": {},
   "source": [
    "### local"
   ]
  },
  {
   "cell_type": "code",
   "execution_count": 3,
   "id": "5e2c3ac7-ea6f-4c3a-8902-fee875ec798d",
   "metadata": {},
   "outputs": [],
   "source": [
    "data = pd.read_csv('../raw_data/hospital_readmissions.csv')"
   ]
  },
  {
   "cell_type": "markdown",
   "id": "5acb04bf-3e58-471b-b25c-be5ec74fc8eb",
   "metadata": {},
   "source": [
    "## Preprocessing"
   ]
  },
  {
   "cell_type": "code",
   "execution_count": 4,
   "id": "910a79de-428e-4ce0-83df-b8c742b06dbe",
   "metadata": {},
   "outputs": [],
   "source": [
    "def make_clean_data(df: pd.DataFrame) -> pd.DataFrame:\n",
    "    df = df[df['diag_1'] != 'Missing']\n",
    "    df = df[df['diag_2'] != 'Missing']\n",
    "    df = df[df['diag_3'] != 'Missing']\n",
    "\n",
    "    df['age'] = df['age'].map({ '[0-10]': 0.0,\n",
    "                                '[10-20)': 0.1,\n",
    "                                '[20-30)': 0.2,\n",
    "                                '[30-40)': 0.3,\n",
    "                                '[40-50)': 0.4,\n",
    "                                '[50-60)': 0.5,\n",
    "                                '[60-70)': 0.6,\n",
    "                                '[70-80)': 0.7,\n",
    "                                '[80-90)': 0.8,\n",
    "                                '[90-100)': 0.9,\n",
    "                                '[100-110)': 1.0})\n",
    "    df['n_outpatient'] = df['n_outpatient'].map({0: 0, 1: 1}).fillna(2).astype(int)\n",
    "    df['n_inpatient'] = df['n_inpatient'].map({0: 0, 1: 1}).fillna(2).astype(int)\n",
    "    df['n_emergency'] = df['n_emergency'].map({0: 0, 1: 1}).fillna(2).astype(int)\n",
    "\n",
    "    df = df.drop(columns=['medical_specialty',\n",
    "                          'glucose_test']\n",
    "                )\n",
    "    return df"
   ]
  },
  {
   "cell_type": "code",
   "execution_count": 5,
   "id": "01a2dc32-f81a-4b5f-a7bd-cf33640c31d1",
   "metadata": {},
   "outputs": [],
   "source": [
    "num_preproc = Pipeline([\n",
    "    ('scaler', MinMaxScaler()),\n",
    "])\n",
    "\n",
    "cat_preproc = Pipeline([\n",
    "    ('ohe', OneHotEncoder(sparse_output=False, drop=\"if_binary\")),\n",
    "])\n",
    "\n",
    "preproc = ColumnTransformer([\n",
    "    ('num_transf', num_preproc, make_column_selector(dtype_include='number')),\n",
    "    ('cat_transf', cat_preproc, make_column_selector(dtype_include='object')),\n",
    "], verbose_feature_names_out=False).set_output(transform='pandas')"
   ]
  },
  {
   "cell_type": "code",
   "execution_count": 6,
   "id": "7a79e3c1-fa86-4163-a822-9ef51586d3c7",
   "metadata": {},
   "outputs": [],
   "source": [
    "clean_data = make_clean_data(data)"
   ]
  },
  {
   "cell_type": "code",
   "execution_count": 7,
   "id": "e856d45f-c957-4291-88f1-02d7dbbc9f86",
   "metadata": {},
   "outputs": [
    {
     "data": {
      "text/html": [
       "<div>\n",
       "<style scoped>\n",
       "    .dataframe tbody tr th:only-of-type {\n",
       "        vertical-align: middle;\n",
       "    }\n",
       "\n",
       "    .dataframe tbody tr th {\n",
       "        vertical-align: top;\n",
       "    }\n",
       "\n",
       "    .dataframe thead th {\n",
       "        text-align: right;\n",
       "    }\n",
       "</style>\n",
       "<table border=\"1\" class=\"dataframe\">\n",
       "  <thead>\n",
       "    <tr style=\"text-align: right;\">\n",
       "      <th></th>\n",
       "      <th>age</th>\n",
       "      <th>time_in_hospital</th>\n",
       "      <th>n_lab_procedures</th>\n",
       "      <th>n_procedures</th>\n",
       "      <th>n_medications</th>\n",
       "      <th>n_outpatient</th>\n",
       "      <th>n_inpatient</th>\n",
       "      <th>n_emergency</th>\n",
       "      <th>diag_1</th>\n",
       "      <th>diag_2</th>\n",
       "      <th>diag_3</th>\n",
       "      <th>A1Ctest</th>\n",
       "      <th>change</th>\n",
       "      <th>diabetes_med</th>\n",
       "      <th>readmitted</th>\n",
       "    </tr>\n",
       "  </thead>\n",
       "  <tbody>\n",
       "    <tr>\n",
       "      <th>0</th>\n",
       "      <td>0.7</td>\n",
       "      <td>8</td>\n",
       "      <td>72</td>\n",
       "      <td>1</td>\n",
       "      <td>18</td>\n",
       "      <td>2</td>\n",
       "      <td>0</td>\n",
       "      <td>0</td>\n",
       "      <td>Circulatory</td>\n",
       "      <td>Respiratory</td>\n",
       "      <td>Other</td>\n",
       "      <td>no</td>\n",
       "      <td>no</td>\n",
       "      <td>yes</td>\n",
       "      <td>no</td>\n",
       "    </tr>\n",
       "    <tr>\n",
       "      <th>1</th>\n",
       "      <td>0.7</td>\n",
       "      <td>3</td>\n",
       "      <td>34</td>\n",
       "      <td>2</td>\n",
       "      <td>13</td>\n",
       "      <td>0</td>\n",
       "      <td>0</td>\n",
       "      <td>0</td>\n",
       "      <td>Other</td>\n",
       "      <td>Other</td>\n",
       "      <td>Other</td>\n",
       "      <td>no</td>\n",
       "      <td>no</td>\n",
       "      <td>yes</td>\n",
       "      <td>no</td>\n",
       "    </tr>\n",
       "    <tr>\n",
       "      <th>2</th>\n",
       "      <td>0.5</td>\n",
       "      <td>5</td>\n",
       "      <td>45</td>\n",
       "      <td>0</td>\n",
       "      <td>18</td>\n",
       "      <td>0</td>\n",
       "      <td>0</td>\n",
       "      <td>0</td>\n",
       "      <td>Circulatory</td>\n",
       "      <td>Circulatory</td>\n",
       "      <td>Circulatory</td>\n",
       "      <td>no</td>\n",
       "      <td>yes</td>\n",
       "      <td>yes</td>\n",
       "      <td>yes</td>\n",
       "    </tr>\n",
       "    <tr>\n",
       "      <th>3</th>\n",
       "      <td>0.7</td>\n",
       "      <td>2</td>\n",
       "      <td>36</td>\n",
       "      <td>0</td>\n",
       "      <td>12</td>\n",
       "      <td>1</td>\n",
       "      <td>0</td>\n",
       "      <td>0</td>\n",
       "      <td>Circulatory</td>\n",
       "      <td>Other</td>\n",
       "      <td>Diabetes</td>\n",
       "      <td>no</td>\n",
       "      <td>yes</td>\n",
       "      <td>yes</td>\n",
       "      <td>yes</td>\n",
       "    </tr>\n",
       "    <tr>\n",
       "      <th>4</th>\n",
       "      <td>0.6</td>\n",
       "      <td>1</td>\n",
       "      <td>42</td>\n",
       "      <td>0</td>\n",
       "      <td>7</td>\n",
       "      <td>0</td>\n",
       "      <td>0</td>\n",
       "      <td>0</td>\n",
       "      <td>Other</td>\n",
       "      <td>Circulatory</td>\n",
       "      <td>Respiratory</td>\n",
       "      <td>no</td>\n",
       "      <td>no</td>\n",
       "      <td>yes</td>\n",
       "      <td>no</td>\n",
       "    </tr>\n",
       "  </tbody>\n",
       "</table>\n",
       "</div>"
      ],
      "text/plain": [
       "   age  time_in_hospital  n_lab_procedures  n_procedures  n_medications  \\\n",
       "0  0.7                 8                72             1             18   \n",
       "1  0.7                 3                34             2             13   \n",
       "2  0.5                 5                45             0             18   \n",
       "3  0.7                 2                36             0             12   \n",
       "4  0.6                 1                42             0              7   \n",
       "\n",
       "   n_outpatient  n_inpatient  n_emergency       diag_1       diag_2  \\\n",
       "0             2            0            0  Circulatory  Respiratory   \n",
       "1             0            0            0        Other        Other   \n",
       "2             0            0            0  Circulatory  Circulatory   \n",
       "3             1            0            0  Circulatory        Other   \n",
       "4             0            0            0        Other  Circulatory   \n",
       "\n",
       "        diag_3 A1Ctest change diabetes_med readmitted  \n",
       "0        Other      no     no          yes         no  \n",
       "1        Other      no     no          yes         no  \n",
       "2  Circulatory      no    yes          yes        yes  \n",
       "3     Diabetes      no    yes          yes        yes  \n",
       "4  Respiratory      no     no          yes         no  "
      ]
     },
     "execution_count": 7,
     "metadata": {},
     "output_type": "execute_result"
    }
   ],
   "source": [
    "clean_data.head()"
   ]
  },
  {
   "cell_type": "markdown",
   "id": "988d7b2f-bfbf-40a3-9c05-7aa3c3df321a",
   "metadata": {},
   "source": [
    "## Features/Targe"
   ]
  },
  {
   "cell_type": "code",
   "execution_count": 8,
   "id": "d7d6488f-8a1c-4375-ac1f-0ef49c53c7ad",
   "metadata": {},
   "outputs": [],
   "source": [
    "# Define feature columns and target column\n",
    "features = clean_data.drop(columns=['readmitted'])\n",
    "target = clean_data[['readmitted']]"
   ]
  },
  {
   "cell_type": "code",
   "execution_count": 9,
   "id": "b49f658a-a56f-461d-b1ea-76a8972da44c",
   "metadata": {},
   "outputs": [],
   "source": [
    "# Encode the target variable if it is not already binary\n",
    "label_encoder = OneHotEncoder(sparse_output=False, drop=\"if_binary\")\n",
    "target = label_encoder.fit_transform(target)"
   ]
  },
  {
   "cell_type": "code",
   "execution_count": 10,
   "id": "4abeaae9-d855-43e4-bdf9-019961f2464a",
   "metadata": {},
   "outputs": [],
   "source": [
    "# Split the data into training and testing sets\n",
    "X_train, X_test, y_train, y_test = train_test_split(features, target, test_size=0.2, random_state=42)\n",
    "\n",
    "# Preprocess the training and testing data\n",
    "X_train = preproc.fit_transform(X_train)\n",
    "X_test = preproc.transform(X_test)"
   ]
  },
  {
   "cell_type": "markdown",
   "id": "6d36000e-8bc1-4832-b059-638297c3f094",
   "metadata": {},
   "source": [
    "## Model"
   ]
  },
  {
   "cell_type": "code",
   "execution_count": 11,
   "id": "a63ef3ff-c262-4e0b-9e02-1b7b0ed7b803",
   "metadata": {},
   "outputs": [],
   "source": [
    "model = Sequential([\n",
    "    Input(shape=(X_train.shape[1],)),\n",
    "    Dense(128, activation='relu'),\n",
    "    Dropout(0.3),\n",
    "    Dense(64, activation='relu'),\n",
    "    Dropout(0.3),\n",
    "    Dense(32, activation='relu'),\n",
    "    Dense(1, activation='sigmoid')\n",
    "])"
   ]
  },
  {
   "cell_type": "code",
   "execution_count": 12,
   "id": "f43dad13-e3d3-44b3-9777-44e02c865df5",
   "metadata": {},
   "outputs": [],
   "source": [
    "# Compile the model\n",
    "model.compile(optimizer='adam', loss='binary_crossentropy', metrics=['accuracy'])"
   ]
  },
  {
   "cell_type": "code",
   "execution_count": 13,
   "id": "cd4cc0e3-21bd-40c4-84c2-6901d8da865c",
   "metadata": {},
   "outputs": [],
   "source": [
    "# Set early stopping to prevent overfitting\n",
    "early_stopping = EarlyStopping(monitor='val_loss', patience=10, restore_best_weights=True)"
   ]
  },
  {
   "cell_type": "code",
   "execution_count": null,
   "id": "7f7eedee-fe72-48f8-846c-5cfde55e9932",
   "metadata": {},
   "outputs": [
    {
     "name": "stdout",
     "output_type": "stream",
     "text": [
      "Epoch 1/100\n"
     ]
    }
   ],
   "source": [
    "# Train the model\n",
    "history = model.fit(X_train, y_train, \n",
    "                    epochs=100, \n",
    "                    validation_split=0.2, \n",
    "                    batch_size=32, \n",
    "                    callbacks=[early_stopping],\n",
    "                    verbose=2)"
   ]
  },
  {
   "cell_type": "code",
   "execution_count": null,
   "id": "ec8ef933-d858-4d88-9653-e21625adc54c",
   "metadata": {},
   "outputs": [],
   "source": [
    "# Evaluate the model on the test set\n",
    "test_loss, test_acc = model.evaluate(X_test, y_test)\n",
    "print(f'Test Accuracy: {test_acc:.4f}')"
   ]
  },
  {
   "cell_type": "code",
   "execution_count": null,
   "id": "5886c803-ecdd-46a6-b4d8-a107577e1660",
   "metadata": {},
   "outputs": [],
   "source": [
    "# Predict on the test data\n",
    "y_pred_prob = model.predict(X_test)\n",
    "y_pred = (y_pred_prob > 0.5).astype(\"int32\")\n",
    "\n",
    "# Print classification report\n",
    "print(classification_report(y_test, y_pred))\n",
    "\n",
    "# Calculate ROC-AUC\n",
    "roc_auc = roc_auc_score(y_test, y_pred_prob)\n",
    "print(f'ROC-AUC: {roc_auc:.4f}')\n",
    "\n",
    "# Plot ROC Curve\n",
    "fpr, tpr, thresholds = roc_curve(y_test, y_pred_prob)\n",
    "plt.figure()\n",
    "plt.plot(fpr, tpr, color='blue', lw=2, label=f'ROC curve (area = {roc_auc:.4f})')\n",
    "plt.plot([0, 1], [0, 1], color='gray', lw=2, linestyle='--')\n",
    "plt.xlim([0.0, 1.0])\n",
    "plt.ylim([0.0, 1.05])\n",
    "plt.xlabel('False Positive Rate')\n",
    "plt.ylabel('True Positive Rate')\n",
    "plt.title('Receiver Operating Characteristic')\n",
    "plt.legend(loc=\"lower right\")\n",
    "plt.show()"
   ]
  }
 ],
 "metadata": {
  "kernelspec": {
   "display_name": "Python 3 (ipykernel)",
   "language": "python",
   "name": "python3"
  },
  "language_info": {
   "codemirror_mode": {
    "name": "ipython",
    "version": 3
   },
   "file_extension": ".py",
   "mimetype": "text/x-python",
   "name": "python",
   "nbconvert_exporter": "python",
   "pygments_lexer": "ipython3",
   "version": "3.10.6"
  }
 },
 "nbformat": 4,
 "nbformat_minor": 5
}

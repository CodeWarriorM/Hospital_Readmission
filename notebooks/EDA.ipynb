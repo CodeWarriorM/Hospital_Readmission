{
 "cells": [
  {
   "cell_type": "code",
   "execution_count": 1,
   "metadata": {},
   "outputs": [],
   "source": [
    "import pandas as pd\n",
    "import numpy as np\n",
    "import matplotlib.pyplot as plt\n",
    "\n",
    "from sklearn.preprocessing import OneHotEncoder"
   ]
  },
  {
   "cell_type": "code",
   "execution_count": 2,
   "metadata": {},
   "outputs": [],
   "source": [
    "data = pd.read_csv('../raw_data/hospital_readmissions.csv')"
   ]
  },
  {
   "cell_type": "code",
   "execution_count": 3,
   "metadata": {},
   "outputs": [
    {
     "name": "stdout",
     "output_type": "stream",
     "text": [
      "<class 'pandas.core.frame.DataFrame'>\n",
      "RangeIndex: 25000 entries, 0 to 24999\n",
      "Data columns (total 17 columns):\n",
      " #   Column             Non-Null Count  Dtype \n",
      "---  ------             --------------  ----- \n",
      " 0   age                25000 non-null  object\n",
      " 1   time_in_hospital   25000 non-null  int64 \n",
      " 2   n_lab_procedures   25000 non-null  int64 \n",
      " 3   n_procedures       25000 non-null  int64 \n",
      " 4   n_medications      25000 non-null  int64 \n",
      " 5   n_outpatient       25000 non-null  int64 \n",
      " 6   n_inpatient        25000 non-null  int64 \n",
      " 7   n_emergency        25000 non-null  int64 \n",
      " 8   medical_specialty  25000 non-null  object\n",
      " 9   diag_1             25000 non-null  object\n",
      " 10  diag_2             25000 non-null  object\n",
      " 11  diag_3             25000 non-null  object\n",
      " 12  glucose_test       25000 non-null  object\n",
      " 13  A1Ctest            25000 non-null  object\n",
      " 14  change             25000 non-null  object\n",
      " 15  diabetes_med       25000 non-null  object\n",
      " 16  readmitted         25000 non-null  object\n",
      "dtypes: int64(7), object(10)\n",
      "memory usage: 3.2+ MB\n"
     ]
    }
   ],
   "source": [
    "data.info()"
   ]
  },
  {
   "cell_type": "markdown",
   "metadata": {
    "jp-MarkdownHeadingCollapsed": true
   },
   "source": [
    "# Checking for duplicates"
   ]
  },
  {
   "cell_type": "code",
   "execution_count": 4,
   "metadata": {},
   "outputs": [
    {
     "data": {
      "text/plain": [
       "0"
      ]
     },
     "execution_count": 4,
     "metadata": {},
     "output_type": "execute_result"
    }
   ],
   "source": [
    "data.duplicated().sum()"
   ]
  },
  {
   "cell_type": "markdown",
   "metadata": {
    "jp-MarkdownHeadingCollapsed": true
   },
   "source": [
    "# Checking for missing data"
   ]
  },
  {
   "cell_type": "code",
   "execution_count": 5,
   "metadata": {},
   "outputs": [
    {
     "data": {
      "text/plain": [
       "age                  0.0\n",
       "diag_1               0.0\n",
       "diabetes_med         0.0\n",
       "change               0.0\n",
       "A1Ctest              0.0\n",
       "glucose_test         0.0\n",
       "diag_3               0.0\n",
       "diag_2               0.0\n",
       "medical_specialty    0.0\n",
       "time_in_hospital     0.0\n",
       "n_emergency          0.0\n",
       "n_inpatient          0.0\n",
       "n_outpatient         0.0\n",
       "n_medications        0.0\n",
       "n_procedures         0.0\n",
       "n_lab_procedures     0.0\n",
       "readmitted           0.0\n",
       "dtype: float64"
      ]
     },
     "execution_count": 5,
     "metadata": {},
     "output_type": "execute_result"
    }
   ],
   "source": [
    "data.isnull().sum().sort_values(ascending=False)/len(data)"
   ]
  },
  {
   "cell_type": "markdown",
   "metadata": {
    "jp-MarkdownHeadingCollapsed": true
   },
   "source": [
    "# age"
   ]
  },
  {
   "cell_type": "code",
   "execution_count": 6,
   "metadata": {},
   "outputs": [
    {
     "data": {
      "text/plain": [
       "array(['[70-80)', '[50-60)', '[60-70)', '[40-50)', '[80-90)', '[90-100)'],\n",
       "      dtype=object)"
      ]
     },
     "execution_count": 6,
     "metadata": {},
     "output_type": "execute_result"
    }
   ],
   "source": [
    "data['age'].unique()"
   ]
  },
  {
   "cell_type": "code",
   "execution_count": 7,
   "metadata": {},
   "outputs": [
    {
     "data": {
      "text/html": [
       "<div>\n",
       "<style scoped>\n",
       "    .dataframe tbody tr th:only-of-type {\n",
       "        vertical-align: middle;\n",
       "    }\n",
       "\n",
       "    .dataframe tbody tr th {\n",
       "        vertical-align: top;\n",
       "    }\n",
       "\n",
       "    .dataframe thead th {\n",
       "        text-align: right;\n",
       "    }\n",
       "</style>\n",
       "<table border=\"1\" class=\"dataframe\">\n",
       "  <thead>\n",
       "    <tr style=\"text-align: right;\">\n",
       "      <th></th>\n",
       "      <th>time_in_hospital</th>\n",
       "      <th>n_lab_procedures</th>\n",
       "      <th>n_procedures</th>\n",
       "      <th>n_medications</th>\n",
       "      <th>n_outpatient</th>\n",
       "      <th>n_inpatient</th>\n",
       "      <th>n_emergency</th>\n",
       "      <th>medical_specialty</th>\n",
       "      <th>diag_1</th>\n",
       "      <th>diag_2</th>\n",
       "      <th>...</th>\n",
       "      <th>A1Ctest</th>\n",
       "      <th>change</th>\n",
       "      <th>diabetes_med</th>\n",
       "      <th>readmitted</th>\n",
       "      <th>age_[40-50)</th>\n",
       "      <th>age_[50-60)</th>\n",
       "      <th>age_[60-70)</th>\n",
       "      <th>age_[70-80)</th>\n",
       "      <th>age_[80-90)</th>\n",
       "      <th>age_[90-100)</th>\n",
       "    </tr>\n",
       "  </thead>\n",
       "  <tbody>\n",
       "    <tr>\n",
       "      <th>0</th>\n",
       "      <td>8</td>\n",
       "      <td>72</td>\n",
       "      <td>1</td>\n",
       "      <td>18</td>\n",
       "      <td>2</td>\n",
       "      <td>0</td>\n",
       "      <td>0</td>\n",
       "      <td>Missing</td>\n",
       "      <td>Circulatory</td>\n",
       "      <td>Respiratory</td>\n",
       "      <td>...</td>\n",
       "      <td>no</td>\n",
       "      <td>no</td>\n",
       "      <td>yes</td>\n",
       "      <td>no</td>\n",
       "      <td>0.0</td>\n",
       "      <td>0.0</td>\n",
       "      <td>0.0</td>\n",
       "      <td>1.0</td>\n",
       "      <td>0.0</td>\n",
       "      <td>0.0</td>\n",
       "    </tr>\n",
       "    <tr>\n",
       "      <th>1</th>\n",
       "      <td>3</td>\n",
       "      <td>34</td>\n",
       "      <td>2</td>\n",
       "      <td>13</td>\n",
       "      <td>0</td>\n",
       "      <td>0</td>\n",
       "      <td>0</td>\n",
       "      <td>Other</td>\n",
       "      <td>Other</td>\n",
       "      <td>Other</td>\n",
       "      <td>...</td>\n",
       "      <td>no</td>\n",
       "      <td>no</td>\n",
       "      <td>yes</td>\n",
       "      <td>no</td>\n",
       "      <td>0.0</td>\n",
       "      <td>0.0</td>\n",
       "      <td>0.0</td>\n",
       "      <td>1.0</td>\n",
       "      <td>0.0</td>\n",
       "      <td>0.0</td>\n",
       "    </tr>\n",
       "    <tr>\n",
       "      <th>2</th>\n",
       "      <td>5</td>\n",
       "      <td>45</td>\n",
       "      <td>0</td>\n",
       "      <td>18</td>\n",
       "      <td>0</td>\n",
       "      <td>0</td>\n",
       "      <td>0</td>\n",
       "      <td>Missing</td>\n",
       "      <td>Circulatory</td>\n",
       "      <td>Circulatory</td>\n",
       "      <td>...</td>\n",
       "      <td>no</td>\n",
       "      <td>yes</td>\n",
       "      <td>yes</td>\n",
       "      <td>yes</td>\n",
       "      <td>0.0</td>\n",
       "      <td>1.0</td>\n",
       "      <td>0.0</td>\n",
       "      <td>0.0</td>\n",
       "      <td>0.0</td>\n",
       "      <td>0.0</td>\n",
       "    </tr>\n",
       "  </tbody>\n",
       "</table>\n",
       "<p>3 rows × 22 columns</p>\n",
       "</div>"
      ],
      "text/plain": [
       "   time_in_hospital  n_lab_procedures  n_procedures  n_medications  \\\n",
       "0                 8                72             1             18   \n",
       "1                 3                34             2             13   \n",
       "2                 5                45             0             18   \n",
       "\n",
       "   n_outpatient  n_inpatient  n_emergency medical_specialty       diag_1  \\\n",
       "0             2            0            0           Missing  Circulatory   \n",
       "1             0            0            0             Other        Other   \n",
       "2             0            0            0           Missing  Circulatory   \n",
       "\n",
       "        diag_2  ... A1Ctest change diabetes_med readmitted age_[40-50)  \\\n",
       "0  Respiratory  ...      no     no          yes         no         0.0   \n",
       "1        Other  ...      no     no          yes         no         0.0   \n",
       "2  Circulatory  ...      no    yes          yes        yes         0.0   \n",
       "\n",
       "  age_[50-60)  age_[60-70)  age_[70-80)  age_[80-90)  age_[90-100)  \n",
       "0         0.0          0.0          1.0          0.0           0.0  \n",
       "1         0.0          0.0          1.0          0.0           0.0  \n",
       "2         1.0          0.0          0.0          0.0           0.0  \n",
       "\n",
       "[3 rows x 22 columns]"
      ]
     },
     "execution_count": 7,
     "metadata": {},
     "output_type": "execute_result"
    }
   ],
   "source": [
    "# Instantiate the OneHotEncoder\n",
    "ohe = OneHotEncoder(sparse_output = False)\n",
    "\n",
    "# Fit encoder\n",
    "ohe.fit(data[['age']])\n",
    "\n",
    "# Transform the current \"age\" column\n",
    "data[ohe.get_feature_names_out()] = ohe.transform(data[['age']])\n",
    "\n",
    "# Drop the column \"age\" which has been encoded\n",
    "data = data.drop(columns = [\"age\"])\n",
    "\n",
    "# Show the dataset\n",
    "data.head(3)"
   ]
  },
  {
   "cell_type": "code",
   "execution_count": 8,
   "metadata": {},
   "outputs": [
    {
     "data": {
      "image/png": "[encoded data removed]",
      "text/plain": [
       "<Figure size 1000x600 with 1 Axes>"
      ]
     },
     "metadata": {},
     "output_type": "display_data"
    }
   ],
   "source": [
    "# Altersgruppen-Spalten\n",
    "age_columns = ['age_[40-50)', 'age_[50-60)', 'age_[60-70)', 'age_[70-80)', 'age_[80-90)', 'age_[90-100)']\n",
    "\n",
    "# Zählen der Vorkommen jeder Altersgruppe\n",
    "age_counts = data[age_columns].sum()\n",
    "\n",
    "# Erstellen des Balkendiagramms\n",
    "plt.figure(figsize=(10, 6))\n",
    "age_counts.plot(kind='bar', color='skyblue')\n",
    "plt.title('Verteilung der Altersgruppen')\n",
    "plt.xlabel('Altersgruppe')\n",
    "plt.ylabel('Anzahl der Patienten')\n",
    "plt.xticks(rotation=45)\n",
    "plt.show()"
   ]
  },
  {
   "cell_type": "markdown",
   "metadata": {
    "jp-MarkdownHeadingCollapsed": true
   },
   "source": [
    "# time_in_hospital"
   ]
  },
  {
   "cell_type": "code",
   "execution_count": 9,
   "metadata": {},
   "outputs": [
    {
     "name": "stdout",
     "output_type": "stream",
     "text": [
      "[ 1  2  3  4  5  6  7  8  9 10 11 12 13 14]\n"
     ]
    }
   ],
   "source": [
    "sorted_unique_values = data['time_in_hospital'].unique()\n",
    "sorted_unique_values.sort()\n",
    "print(sorted_unique_values)"
   ]
  },
  {
   "cell_type": "code",
   "execution_count": 10,
   "metadata": {},
   "outputs": [
    {
     "data": {
      "text/plain": [
       "count    25000.00000\n",
       "mean         4.45332\n",
       "std          3.00147\n",
       "min          1.00000\n",
       "25%          2.00000\n",
       "50%          4.00000\n",
       "75%          6.00000\n",
       "max         14.00000\n",
       "Name: time_in_hospital, dtype: float64"
      ]
     },
     "execution_count": 10,
     "metadata": {},
     "output_type": "execute_result"
    }
   ],
   "source": [
    "data['time_in_hospital'].describe()"
   ]
  },
  {
   "cell_type": "code",
   "execution_count": 11,
   "metadata": {},
   "outputs": [
    {
     "data": {
      "image/png": "[encoded data removed]",
      "text/plain": [
       "<Figure size 800x600 with 1 Axes>"
      ]
     },
     "metadata": {},
     "output_type": "display_data"
    }
   ],
   "source": [
    "# Histogramm erstellen\n",
    "plt.figure(figsize=(8, 6))\n",
    "plt.hist(data['time_in_hospital'], bins=14, edgecolor='black')\n",
    "plt.title('Verteilung der Aufenthaltsdauer im Krankenhaus')\n",
    "plt.xlabel('Aufenthaltsdauer')\n",
    "plt.ylabel('Anzahl der Fälle')\n",
    "plt.grid(True)\n",
    "plt.xticks(np.arange(1, 15, step=1))\n",
    "plt.show()"
   ]
  },
  {
   "cell_type": "markdown",
   "metadata": {
    "jp-MarkdownHeadingCollapsed": true
   },
   "source": [
    "# n_lab_procedures"
   ]
  },
  {
   "cell_type": "code",
   "execution_count": 12,
   "metadata": {},
   "outputs": [],
   "source": [
    "test = 'n_lab_procedures'"
   ]
  },
  {
   "cell_type": "code",
   "execution_count": 13,
   "metadata": {},
   "outputs": [
    {
     "name": "stdout",
     "output_type": "stream",
     "text": [
      "[  1   2   3   4   5   6   7   8   9  10  11  12  13  14  15  16  17  18\n",
      "  19  20  21  22  23  24  25  26  27  28  29  30  31  32  33  34  35  36\n",
      "  37  38  39  40  41  42  43  44  45  46  47  48  49  50  51  52  53  54\n",
      "  55  56  57  58  59  60  61  62  63  64  65  66  67  68  69  70  71  72\n",
      "  73  74  75  76  77  78  79  80  81  82  83  84  85  86  87  88  89  90\n",
      "  91  92  93  94  95  96  97  98  99 100 101 102 103 105 106 108 109 111\n",
      " 113]\n"
     ]
    }
   ],
   "source": [
    "sorted_unique_values = data[test].unique()\n",
    "sorted_unique_values.sort()\n",
    "print(sorted_unique_values)"
   ]
  },
  {
   "cell_type": "code",
   "execution_count": 14,
   "metadata": {},
   "outputs": [
    {
     "data": {
      "text/plain": [
       "count    25000.00000\n",
       "mean        43.24076\n",
       "std         19.81862\n",
       "min          1.00000\n",
       "25%         31.00000\n",
       "50%         44.00000\n",
       "75%         57.00000\n",
       "max        113.00000\n",
       "Name: n_lab_procedures, dtype: float64"
      ]
     },
     "execution_count": 14,
     "metadata": {},
     "output_type": "execute_result"
    }
   ],
   "source": [
    "data[test].describe()"
   ]
  },
  {
   "cell_type": "code",
   "execution_count": 15,
   "metadata": {},
   "outputs": [
    {
     "data": {
      "image/png": "[encoded data removed]",
      "text/plain": [
       "<Figure size 800x600 with 1 Axes>"
      ]
     },
     "metadata": {},
     "output_type": "display_data"
    }
   ],
   "source": [
    "# Histogramm\n",
    "plt.figure(figsize=(8, 6))\n",
    "plt.hist(data[test], bins=(max(sorted_unique_values)), edgecolor='black')\n",
    "plt.title('Verteilung Lab procedures')\n",
    "plt.grid(True)\n",
    "plt.xticks(np.arange(1, (max(sorted_unique_values)), step=10))\n",
    "plt.show()"
   ]
  },
  {
   "cell_type": "code",
   "execution_count": 16,
   "metadata": {},
   "outputs": [
    {
     "data": {
      "image/png": "[encoded data removed]",
      "text/plain": [
       "<Figure size 800x600 with 1 Axes>"
      ]
     },
     "metadata": {},
     "output_type": "display_data"
    }
   ],
   "source": [
    "# Histogramm\n",
    "plt.figure(figsize=(8, 6))\n",
    "plt.hist(data[test], bins=11, edgecolor='black')\n",
    "plt.title('Verteilung Lab procedures')\n",
    "plt.grid(True)\n",
    "plt.xticks(np.arange(1, (max(sorted_unique_values)), step=10))\n",
    "plt.show()"
   ]
  },
  {
   "cell_type": "markdown",
   "metadata": {
    "jp-MarkdownHeadingCollapsed": true
   },
   "source": [
    "#### 10er Abstände (not implemented) - different columns"
   ]
  },
  {
   "cell_type": "raw",
   "metadata": {},
   "source": [
    "# Zehnerabstände definieren\n",
    "bins = np.arange(0, 121, 10)  # Erstellt Intervalle: [0-10), [10-20), ..., [110-120)\n",
    "labels = [f'{i}-{i+9}' for i in bins[:-1]]  # Erzeugt Labels: '0-9', '10-19', ..., '110-119'\n",
    "\n",
    "# Werte in Zehnerabstände gruppieren\n",
    "data['group'] = pd.cut(data['n_lab_procedures'], bins=bins, labels=labels, right=False)\n",
    "\n",
    "# One-Hot-Encoding der Gruppen und Konvertierung in numerische Werte\n",
    "data_encoded = pd.get_dummies(data['group'], dtype=int)\n",
    "\n",
    "# Spaltennamen anpassen\n",
    "data_encoded.columns = [f'lab_proc_{col}' for col in data_encoded.columns]\n",
    "\n",
    "# Ursprüngliche Spalte droppen\n",
    "data = data.drop(columns=['n_lab_procedures', 'group'])\n",
    "\n",
    "# Neue encoded Spalten zum DataFrame hinzufügen\n",
    "data = pd.concat([data, data_encoded], axis=1)"
   ]
  },
  {
   "cell_type": "markdown",
   "metadata": {},
   "source": [
    "#### 20er Abstände (not implemented) - different columns"
   ]
  },
  {
   "cell_type": "raw",
   "metadata": {},
   "source": [
    "# Zwanzigerabstände definieren\n",
    "bins = np.arange(0, 121, 20)  # Erstellt Intervalle: [0-20), [20-40), ..., [100-120)\n",
    "labels = [f'{i}-{i+19}' for i in bins[:-1]]  # Erzeugt Labels: '0-19', '20-39', ..., '100-119'\n",
    "\n",
    "# Werte in Zwanzigerabstände gruppieren\n",
    "data['group'] = pd.cut(data['n_lab_procedures'], bins=bins, labels=labels, right=False)\n",
    "\n",
    "# One-Hot-Encoding der Gruppen und Konvertierung in numerische Werte\n",
    "data_encoded = pd.get_dummies(data['group'], dtype=int)\n",
    "\n",
    "# Spaltennamen anpassen\n",
    "data_encoded.columns = [f'lab_proc_{col}' for col in data_encoded.columns]\n",
    "\n",
    "# Ursprüngliche Spalte droppen\n",
    "data = data.drop(columns=['n_lab_procedures', 'group'])\n",
    "\n",
    "# Neue encoded Spalten zum DataFrame hinzufügen\n",
    "data = pd.concat([data, data_encoded], axis=1)"
   ]
  },
  {
   "cell_type": "markdown",
   "metadata": {},
   "source": [
    "#### 10er Abstände (implemented) - one column"
   ]
  },
  {
   "cell_type": "markdown",
   "metadata": {},
   "source": [
    "0 = 0-9 <br>\n",
    "1 = 10-19 <br>\n",
    "2 = 20-29 <br>\n",
    "..."
   ]
  },
  {
   "cell_type": "code",
   "execution_count": 17,
   "metadata": {},
   "outputs": [],
   "source": [
    "# Zehnerabstände definieren\n",
    "bins = np.arange(0, 121, 10)  # Erstellt Intervalle: [0-10), [10-20), ..., [110-120)\n",
    "labels = range(len(bins) - 1)  # Erzeugt Labels: 0, 1, 2, ..., für die Intervalle\n",
    "\n",
    "# Werte in Zehnerabstände gruppieren und als numerische Kategorien speichern\n",
    "data['n_lab_proc_category'] = pd.cut(data['n_lab_procedures'], bins=bins, labels=labels, right=False)\n",
    "\n",
    "# Ursprüngliche Spalte droppen\n",
    "data = data.drop(columns=['n_lab_procedures'])"
   ]
  },
  {
   "cell_type": "markdown",
   "metadata": {},
   "source": [
    "#### Zwischenergebnis"
   ]
  },
  {
   "cell_type": "code",
   "execution_count": 18,
   "metadata": {},
   "outputs": [
    {
     "data": {
      "text/html": [
       "<div>\n",
       "<style scoped>\n",
       "    .dataframe tbody tr th:only-of-type {\n",
       "        vertical-align: middle;\n",
       "    }\n",
       "\n",
       "    .dataframe tbody tr th {\n",
       "        vertical-align: top;\n",
       "    }\n",
       "\n",
       "    .dataframe thead th {\n",
       "        text-align: right;\n",
       "    }\n",
       "</style>\n",
       "<table border=\"1\" class=\"dataframe\">\n",
       "  <thead>\n",
       "    <tr style=\"text-align: right;\">\n",
       "      <th></th>\n",
       "      <th>time_in_hospital</th>\n",
       "      <th>n_procedures</th>\n",
       "      <th>n_medications</th>\n",
       "      <th>n_outpatient</th>\n",
       "      <th>n_inpatient</th>\n",
       "      <th>n_emergency</th>\n",
       "      <th>medical_specialty</th>\n",
       "      <th>diag_1</th>\n",
       "      <th>diag_2</th>\n",
       "      <th>diag_3</th>\n",
       "      <th>...</th>\n",
       "      <th>change</th>\n",
       "      <th>diabetes_med</th>\n",
       "      <th>readmitted</th>\n",
       "      <th>age_[40-50)</th>\n",
       "      <th>age_[50-60)</th>\n",
       "      <th>age_[60-70)</th>\n",
       "      <th>age_[70-80)</th>\n",
       "      <th>age_[80-90)</th>\n",
       "      <th>age_[90-100)</th>\n",
       "      <th>n_lab_proc_category</th>\n",
       "    </tr>\n",
       "  </thead>\n",
       "  <tbody>\n",
       "    <tr>\n",
       "      <th>0</th>\n",
       "      <td>8</td>\n",
       "      <td>1</td>\n",
       "      <td>18</td>\n",
       "      <td>2</td>\n",
       "      <td>0</td>\n",
       "      <td>0</td>\n",
       "      <td>Missing</td>\n",
       "      <td>Circulatory</td>\n",
       "      <td>Respiratory</td>\n",
       "      <td>Other</td>\n",
       "      <td>...</td>\n",
       "      <td>no</td>\n",
       "      <td>yes</td>\n",
       "      <td>no</td>\n",
       "      <td>0.0</td>\n",
       "      <td>0.0</td>\n",
       "      <td>0.0</td>\n",
       "      <td>1.0</td>\n",
       "      <td>0.0</td>\n",
       "      <td>0.0</td>\n",
       "      <td>7</td>\n",
       "    </tr>\n",
       "    <tr>\n",
       "      <th>1</th>\n",
       "      <td>3</td>\n",
       "      <td>2</td>\n",
       "      <td>13</td>\n",
       "      <td>0</td>\n",
       "      <td>0</td>\n",
       "      <td>0</td>\n",
       "      <td>Other</td>\n",
       "      <td>Other</td>\n",
       "      <td>Other</td>\n",
       "      <td>Other</td>\n",
       "      <td>...</td>\n",
       "      <td>no</td>\n",
       "      <td>yes</td>\n",
       "      <td>no</td>\n",
       "      <td>0.0</td>\n",
       "      <td>0.0</td>\n",
       "      <td>0.0</td>\n",
       "      <td>1.0</td>\n",
       "      <td>0.0</td>\n",
       "      <td>0.0</td>\n",
       "      <td>3</td>\n",
       "    </tr>\n",
       "    <tr>\n",
       "      <th>2</th>\n",
       "      <td>5</td>\n",
       "      <td>0</td>\n",
       "      <td>18</td>\n",
       "      <td>0</td>\n",
       "      <td>0</td>\n",
       "      <td>0</td>\n",
       "      <td>Missing</td>\n",
       "      <td>Circulatory</td>\n",
       "      <td>Circulatory</td>\n",
       "      <td>Circulatory</td>\n",
       "      <td>...</td>\n",
       "      <td>yes</td>\n",
       "      <td>yes</td>\n",
       "      <td>yes</td>\n",
       "      <td>0.0</td>\n",
       "      <td>1.0</td>\n",
       "      <td>0.0</td>\n",
       "      <td>0.0</td>\n",
       "      <td>0.0</td>\n",
       "      <td>0.0</td>\n",
       "      <td>4</td>\n",
       "    </tr>\n",
       "    <tr>\n",
       "      <th>3</th>\n",
       "      <td>2</td>\n",
       "      <td>0</td>\n",
       "      <td>12</td>\n",
       "      <td>1</td>\n",
       "      <td>0</td>\n",
       "      <td>0</td>\n",
       "      <td>Missing</td>\n",
       "      <td>Circulatory</td>\n",
       "      <td>Other</td>\n",
       "      <td>Diabetes</td>\n",
       "      <td>...</td>\n",
       "      <td>yes</td>\n",
       "      <td>yes</td>\n",
       "      <td>yes</td>\n",
       "      <td>0.0</td>\n",
       "      <td>0.0</td>\n",
       "      <td>0.0</td>\n",
       "      <td>1.0</td>\n",
       "      <td>0.0</td>\n",
       "      <td>0.0</td>\n",
       "      <td>3</td>\n",
       "    </tr>\n",
       "    <tr>\n",
       "      <th>4</th>\n",
       "      <td>1</td>\n",
       "      <td>0</td>\n",
       "      <td>7</td>\n",
       "      <td>0</td>\n",
       "      <td>0</td>\n",
       "      <td>0</td>\n",
       "      <td>InternalMedicine</td>\n",
       "      <td>Other</td>\n",
       "      <td>Circulatory</td>\n",
       "      <td>Respiratory</td>\n",
       "      <td>...</td>\n",
       "      <td>no</td>\n",
       "      <td>yes</td>\n",
       "      <td>no</td>\n",
       "      <td>0.0</td>\n",
       "      <td>0.0</td>\n",
       "      <td>1.0</td>\n",
       "      <td>0.0</td>\n",
       "      <td>0.0</td>\n",
       "      <td>0.0</td>\n",
       "      <td>4</td>\n",
       "    </tr>\n",
       "  </tbody>\n",
       "</table>\n",
       "<p>5 rows × 22 columns</p>\n",
       "</div>"
      ],
      "text/plain": [
       "   time_in_hospital  n_procedures  n_medications  n_outpatient  n_inpatient  \\\n",
       "0                 8             1             18             2            0   \n",
       "1                 3             2             13             0            0   \n",
       "2                 5             0             18             0            0   \n",
       "3                 2             0             12             1            0   \n",
       "4                 1             0              7             0            0   \n",
       "\n",
       "   n_emergency medical_specialty       diag_1       diag_2       diag_3  ...  \\\n",
       "0            0           Missing  Circulatory  Respiratory        Other  ...   \n",
       "1            0             Other        Other        Other        Other  ...   \n",
       "2            0           Missing  Circulatory  Circulatory  Circulatory  ...   \n",
       "3            0           Missing  Circulatory        Other     Diabetes  ...   \n",
       "4            0  InternalMedicine        Other  Circulatory  Respiratory  ...   \n",
       "\n",
       "  change diabetes_med readmitted age_[40-50) age_[50-60)  age_[60-70)  \\\n",
       "0     no          yes         no         0.0         0.0          0.0   \n",
       "1     no          yes         no         0.0         0.0          0.0   \n",
       "2    yes          yes        yes         0.0         1.0          0.0   \n",
       "3    yes          yes        yes         0.0         0.0          0.0   \n",
       "4     no          yes         no         0.0         0.0          1.0   \n",
       "\n",
       "   age_[70-80)  age_[80-90)  age_[90-100)  n_lab_proc_category  \n",
       "0          1.0          0.0           0.0                    7  \n",
       "1          1.0          0.0           0.0                    3  \n",
       "2          0.0          0.0           0.0                    4  \n",
       "3          1.0          0.0           0.0                    3  \n",
       "4          0.0          0.0           0.0                    4  \n",
       "\n",
       "[5 rows x 22 columns]"
      ]
     },
     "execution_count": 18,
     "metadata": {},
     "output_type": "execute_result"
    }
   ],
   "source": [
    "data.head()"
   ]
  },
  {
   "cell_type": "markdown",
   "metadata": {
    "jp-MarkdownHeadingCollapsed": true
   },
   "source": [
    "### n_procedures (didn't change anything)"
   ]
  },
  {
   "cell_type": "code",
   "execution_count": 19,
   "metadata": {},
   "outputs": [
    {
     "name": "stdout",
     "output_type": "stream",
     "text": [
      "[0 1 2 3 4 5 6]\n"
     ]
    }
   ],
   "source": [
    "test = 'n_procedures'\n",
    "sorted_unique_values = data[test].unique()\n",
    "sorted_unique_values.sort()\n",
    "print(sorted_unique_values)"
   ]
  },
  {
   "cell_type": "markdown",
   "metadata": {
    "jp-MarkdownHeadingCollapsed": true
   },
   "source": [
    "# n_medications"
   ]
  },
  {
   "cell_type": "code",
   "execution_count": 20,
   "metadata": {},
   "outputs": [
    {
     "name": "stdout",
     "output_type": "stream",
     "text": [
      "[ 1  2  3  4  5  6  7  8  9 10 11 12 13 14 15 16 17 18 19 20 21 22 23 24\n",
      " 25 26 27 28 29 30 31 32 33 34 35 36 37 38 39 40 41 42 43 44 45 46 47 48\n",
      " 49 50 51 52 53 54 55 56 57 58 59 60 61 62 63 64 65 68 69 72 75 79]\n"
     ]
    }
   ],
   "source": [
    "test = 'n_medications'\n",
    "sorted_unique_values = data[test].unique()\n",
    "sorted_unique_values.sort()\n",
    "print(sorted_unique_values)"
   ]
  },
  {
   "cell_type": "code",
   "execution_count": 21,
   "metadata": {},
   "outputs": [
    {
     "data": {
      "image/png": "[encoded data removed]",
      "text/plain": [
       "<Figure size 800x600 with 1 Axes>"
      ]
     },
     "metadata": {},
     "output_type": "display_data"
    }
   ],
   "source": [
    "# Histogramm\n",
    "plt.figure(figsize=(8, 6))\n",
    "plt.hist(data[test], bins=(14), edgecolor='black')\n",
    "plt.title(test)\n",
    "plt.grid(True)\n",
    "plt.xticks(np.arange(1, (max(sorted_unique_values)), step=10))\n",
    "plt.show()"
   ]
  },
  {
   "cell_type": "markdown",
   "metadata": {},
   "source": [
    "#### 5er Abstände (implemented) - one column"
   ]
  },
  {
   "cell_type": "markdown",
   "metadata": {},
   "source": [
    "0 = 0-4 <br>\n",
    "1 = 5-9 <br>\n",
    "2 = 10-14 <br>\n",
    "..."
   ]
  },
  {
   "cell_type": "code",
   "execution_count": 22,
   "metadata": {},
   "outputs": [],
   "source": [
    "# 5erabstände definieren\n",
    "bins = np.arange(0, 81, 5)  # Erstellt Intervalle: [0-4), [5-9), ...,\n",
    "labels = range(len(bins) - 1)  # Erzeugt Labels: 0, 1, 2, ..., für die Intervalle\n",
    "\n",
    "# Werte in Zehnerabstände gruppieren und als numerische Kategorien speichern\n",
    "data['n_med_category'] = pd.cut(data['n_medications'], bins=bins, labels=labels, right=False)\n",
    "\n",
    "# Ursprüngliche Spalte droppen\n",
    "data = data.drop(columns=['n_medications'])"
   ]
  },
  {
   "cell_type": "markdown",
   "metadata": {
    "jp-MarkdownHeadingCollapsed": true
   },
   "source": [
    "# n_outpatient"
   ]
  },
  {
   "cell_type": "markdown",
   "metadata": {},
   "source": [
    "0 = 0 <br>\n",
    "1 = 1 <br>\n",
    "2 and more = 2"
   ]
  },
  {
   "cell_type": "code",
   "execution_count": 23,
   "metadata": {},
   "outputs": [
    {
     "name": "stdout",
     "output_type": "stream",
     "text": [
      "[ 0  1  2  3  4  5  6  7  8  9 10 11 12 13 14 15 16 18 20 21 23 27 33]\n"
     ]
    }
   ],
   "source": [
    "test = 'n_outpatient'\n",
    "sorted_unique_values = data[test].unique()\n",
    "sorted_unique_values.sort()\n",
    "print(sorted_unique_values)"
   ]
  },
  {
   "cell_type": "code",
   "execution_count": 24,
   "metadata": {},
   "outputs": [
    {
     "data": {
      "image/png": "[encoded data removed]",
      "text/plain": [
       "<Figure size 800x600 with 1 Axes>"
      ]
     },
     "metadata": {},
     "output_type": "display_data"
    }
   ],
   "source": [
    "# Histogramm\n",
    "plt.figure(figsize=(8, 6))\n",
    "plt.hist(data[test], bins=(2), edgecolor='black')\n",
    "plt.title(test)\n",
    "plt.grid(True)\n",
    "plt.xticks(np.arange(1, (max(sorted_unique_values)), step=10))\n",
    "plt.show()"
   ]
  },
  {
   "cell_type": "code",
   "execution_count": 25,
   "metadata": {},
   "outputs": [
    {
     "data": {
      "text/plain": [
       "n_outpatient\n",
       "0     0.83436\n",
       "1     0.08304\n",
       "2     0.03652\n",
       "3     0.02148\n",
       "4     0.01076\n",
       "5     0.00544\n",
       "6     0.00296\n",
       "7     0.00156\n",
       "8     0.00072\n",
       "11    0.00064\n",
       "9     0.00052\n",
       "10    0.00048\n",
       "13    0.00028\n",
       "14    0.00028\n",
       "12    0.00024\n",
       "15    0.00020\n",
       "21    0.00012\n",
       "27    0.00008\n",
       "16    0.00008\n",
       "20    0.00008\n",
       "18    0.00008\n",
       "33    0.00004\n",
       "23    0.00004\n",
       "Name: proportion, dtype: float64"
      ]
     },
     "execution_count": 25,
     "metadata": {},
     "output_type": "execute_result"
    }
   ],
   "source": [
    "data[test].value_counts(normalize=True)"
   ]
  },
  {
   "cell_type": "code",
   "execution_count": 26,
   "metadata": {},
   "outputs": [],
   "source": [
    "data['n_outpatient'] = data['n_outpatient'].map({0: 0, 1: 1}).fillna(2).astype(int)"
   ]
  },
  {
   "cell_type": "markdown",
   "metadata": {
    "jp-MarkdownHeadingCollapsed": true
   },
   "source": [
    "# n_inpatient"
   ]
  },
  {
   "cell_type": "markdown",
   "metadata": {},
   "source": [
    "0 = 0 <br>\n",
    "1 = 1 <br>\n",
    "2 and more = 2"
   ]
  },
  {
   "cell_type": "code",
   "execution_count": 27,
   "metadata": {},
   "outputs": [
    {
     "name": "stdout",
     "output_type": "stream",
     "text": [
      "[ 0  1  2  3  4  5  6  7  8  9 10 11 12 13 14 15]\n"
     ]
    }
   ],
   "source": [
    "test = 'n_inpatient'\n",
    "sorted_unique_values = data[test].unique()\n",
    "sorted_unique_values.sort()\n",
    "print(sorted_unique_values)"
   ]
  },
  {
   "cell_type": "code",
   "execution_count": 28,
   "metadata": {},
   "outputs": [
    {
     "data": {
      "image/png": "[encoded data removed]",
      "text/plain": [
       "<Figure size 800x600 with 1 Axes>"
      ]
     },
     "metadata": {},
     "output_type": "display_data"
    }
   ],
   "source": [
    "# Histogramm\n",
    "plt.figure(figsize=(8, 6))\n",
    "plt.hist(data[test], bins=(2), edgecolor='black')\n",
    "plt.grid(True)\n",
    "plt.xticks(np.arange(1, (max(sorted_unique_values)), step=10))\n",
    "plt.show()"
   ]
  },
  {
   "cell_type": "code",
   "execution_count": 29,
   "metadata": {},
   "outputs": [
    {
     "data": {
      "text/plain": [
       "n_inpatient\n",
       "0     0.66148\n",
       "1     0.19704\n",
       "2     0.07636\n",
       "3     0.03332\n",
       "4     0.01432\n",
       "5     0.00844\n",
       "6     0.00416\n",
       "7     0.00188\n",
       "8     0.00104\n",
       "9     0.00080\n",
       "10    0.00048\n",
       "11    0.00032\n",
       "12    0.00012\n",
       "14    0.00008\n",
       "15    0.00008\n",
       "13    0.00008\n",
       "Name: proportion, dtype: float64"
      ]
     },
     "execution_count": 29,
     "metadata": {},
     "output_type": "execute_result"
    }
   ],
   "source": [
    "data[test].value_counts(normalize=True)"
   ]
  },
  {
   "cell_type": "code",
   "execution_count": 30,
   "metadata": {},
   "outputs": [],
   "source": [
    "data['n_inpatient'] = data['n_inpatient'].map({0: 0, 1: 1}).fillna(2).astype(int)"
   ]
  },
  {
   "cell_type": "markdown",
   "metadata": {
    "jp-MarkdownHeadingCollapsed": true
   },
   "source": [
    "# n_emergency "
   ]
  },
  {
   "cell_type": "code",
   "execution_count": 31,
   "metadata": {},
   "outputs": [
    {
     "name": "stdout",
     "output_type": "stream",
     "text": [
      "[ 0  1  2  3  4  5  6  7  8  9 10 11 12 13 16 18 19 21 28 37 64]\n"
     ]
    }
   ],
   "source": [
    "test = 'n_emergency'\n",
    "sorted_unique_values = data[test].unique()\n",
    "sorted_unique_values.sort()\n",
    "print(sorted_unique_values)"
   ]
  },
  {
   "cell_type": "code",
   "execution_count": 32,
   "metadata": {},
   "outputs": [
    {
     "data": {
      "image/png": "[encoded data removed]",
      "text/plain": [
       "<Figure size 800x600 with 1 Axes>"
      ]
     },
     "metadata": {},
     "output_type": "display_data"
    }
   ],
   "source": [
    "# Histogramm\n",
    "plt.figure(figsize=(8, 6))\n",
    "plt.hist(data[test], bins=(2), edgecolor='black')\n",
    "plt.title(test)\n",
    "plt.grid(True)\n",
    "plt.xticks(np.arange(1, (max(sorted_unique_values)), step=10))\n",
    "plt.show()"
   ]
  },
  {
   "cell_type": "code",
   "execution_count": 33,
   "metadata": {},
   "outputs": [
    {
     "data": {
      "text/plain": [
       "n_emergency\n",
       "0     0.89088\n",
       "1     0.07368\n",
       "2     0.02100\n",
       "3     0.00668\n",
       "4     0.00332\n",
       "5     0.00160\n",
       "7     0.00072\n",
       "6     0.00072\n",
       "10    0.00024\n",
       "8     0.00024\n",
       "9     0.00024\n",
       "18    0.00012\n",
       "11    0.00012\n",
       "12    0.00008\n",
       "16    0.00008\n",
       "19    0.00008\n",
       "28    0.00004\n",
       "37    0.00004\n",
       "21    0.00004\n",
       "13    0.00004\n",
       "64    0.00004\n",
       "Name: proportion, dtype: float64"
      ]
     },
     "execution_count": 33,
     "metadata": {},
     "output_type": "execute_result"
    }
   ],
   "source": [
    "data[test].value_counts(normalize=True)"
   ]
  },
  {
   "cell_type": "code",
   "execution_count": 34,
   "metadata": {},
   "outputs": [],
   "source": [
    "data['n_emergency'] = data['n_emergency'].map({0: 0, 1: 1}).fillna(2).astype(int)"
   ]
  },
  {
   "cell_type": "markdown",
   "metadata": {
    "jp-MarkdownHeadingCollapsed": true
   },
   "source": [
    "# medical_specialty (49,5% missing --> droped)"
   ]
  },
  {
   "cell_type": "markdown",
   "metadata": {},
   "source": [
    "Drop --> maybe later subspec. analysis"
   ]
  },
  {
   "cell_type": "code",
   "execution_count": 35,
   "metadata": {},
   "outputs": [
    {
     "name": "stdout",
     "output_type": "stream",
     "text": [
      "['Cardiology' 'Emergency/Trauma' 'Family/GeneralPractice'\n",
      " 'InternalMedicine' 'Missing' 'Other' 'Surgery']\n"
     ]
    }
   ],
   "source": [
    "test = 'medical_specialty'\n",
    "sorted_unique_values = data[test].unique()\n",
    "sorted_unique_values.sort()\n",
    "print(sorted_unique_values)"
   ]
  },
  {
   "cell_type": "code",
   "execution_count": 36,
   "metadata": {},
   "outputs": [
    {
     "data": {
      "image/png": "[encoded data removed]",
      "text/plain": [
       "<Figure size 800x600 with 1 Axes>"
      ]
     },
     "metadata": {},
     "output_type": "display_data"
    }
   ],
   "source": [
    "# Histogramm\n",
    "plt.figure(figsize=(8, 6))\n",
    "plt.hist(data[test], bins=(7), edgecolor='black')\n",
    "plt.title(test)\n",
    "plt.grid(True)\n",
    "plt.show()"
   ]
  },
  {
   "cell_type": "code",
   "execution_count": 37,
   "metadata": {},
   "outputs": [
    {
     "data": {
      "text/plain": [
       "medical_specialty\n",
       "Missing                   0.49528\n",
       "InternalMedicine          0.14260\n",
       "Other                     0.10656\n",
       "Emergency/Trauma          0.07540\n",
       "Family/GeneralPractice    0.07528\n",
       "Cardiology                0.05636\n",
       "Surgery                   0.04852\n",
       "Name: proportion, dtype: float64"
      ]
     },
     "execution_count": 37,
     "metadata": {},
     "output_type": "execute_result"
    }
   ],
   "source": [
    "data[test].value_counts(normalize=True)"
   ]
  },
  {
   "cell_type": "code",
   "execution_count": 38,
   "metadata": {},
   "outputs": [],
   "source": [
    "data = data.drop(columns=['medical_specialty'])"
   ]
  },
  {
   "cell_type": "markdown",
   "metadata": {
    "jp-MarkdownHeadingCollapsed": true
   },
   "source": [
    "# diag_1"
   ]
  },
  {
   "cell_type": "code",
   "execution_count": 39,
   "metadata": {},
   "outputs": [
    {
     "name": "stdout",
     "output_type": "stream",
     "text": [
      "['Circulatory' 'Diabetes' 'Digestive' 'Injury' 'Missing' 'Musculoskeletal'\n",
      " 'Other' 'Respiratory']\n"
     ]
    }
   ],
   "source": [
    "test = 'diag_1'\n",
    "sorted_unique_values = data[test].unique()\n",
    "sorted_unique_values.sort()\n",
    "print(sorted_unique_values)"
   ]
  },
  {
   "cell_type": "code",
   "execution_count": 40,
   "metadata": {},
   "outputs": [
    {
     "data": {
      "image/png": "[encoded data removed]",
      "text/plain": [
       "<Figure size 1200x600 with 1 Axes>"
      ]
     },
     "metadata": {},
     "output_type": "display_data"
    }
   ],
   "source": [
    "# Histogramm\n",
    "plt.figure(figsize=(12, 6))\n",
    "plt.hist(data[test], bins=(8), edgecolor='black')\n",
    "plt.title(test)\n",
    "plt.grid(True)\n",
    "plt.show()"
   ]
  },
  {
   "cell_type": "code",
   "execution_count": 41,
   "metadata": {},
   "outputs": [
    {
     "data": {
      "text/plain": [
       "diag_1\n",
       "Circulatory        0.31296\n",
       "Other              0.25992\n",
       "Respiratory        0.14720\n",
       "Digestive          0.09316\n",
       "Diabetes           0.06988\n",
       "Injury             0.06664\n",
       "Musculoskeletal    0.05008\n",
       "Missing            0.00016\n",
       "Name: proportion, dtype: float64"
      ]
     },
     "execution_count": 41,
     "metadata": {},
     "output_type": "execute_result"
    }
   ],
   "source": [
    "data[test].value_counts(normalize=True)"
   ]
  },
  {
   "cell_type": "code",
   "execution_count": 42,
   "metadata": {},
   "outputs": [
    {
     "data": {
      "text/plain": [
       "(24996, 21)"
      ]
     },
     "execution_count": 42,
     "metadata": {},
     "output_type": "execute_result"
    }
   ],
   "source": [
    "data = data[data['diag_1'] != 'Missing']\n",
    "data.shape"
   ]
  },
  {
   "cell_type": "code",
   "execution_count": 43,
   "metadata": {},
   "outputs": [
    {
     "data": {
      "text/plain": [
       "array(['Circulatory', 'Other', 'Injury', 'Digestive', 'Respiratory',\n",
       "       'Diabetes', 'Musculoskeletal'], dtype=object)"
      ]
     },
     "execution_count": 43,
     "metadata": {},
     "output_type": "execute_result"
    }
   ],
   "source": [
    "data[test].unique()"
   ]
  },
  {
   "cell_type": "code",
   "execution_count": 44,
   "metadata": {},
   "outputs": [],
   "source": [
    "# OneHotEncoder\n",
    "ohe = OneHotEncoder(sparse_output=False)\n",
    "ohe.fit(data[['diag_1']])\n",
    "data[ohe.get_feature_names_out()] = ohe.transform(data[['diag_1']])\n",
    "data = data.drop(columns = ['diag_1'])"
   ]
  },
  {
   "cell_type": "markdown",
   "metadata": {
    "jp-MarkdownHeadingCollapsed": true
   },
   "source": [
    "# diag_2"
   ]
  },
  {
   "cell_type": "code",
   "execution_count": 45,
   "metadata": {},
   "outputs": [
    {
     "data": {
      "text/plain": [
       "array(['Respiratory', 'Other', 'Circulatory', 'Injury', 'Diabetes',\n",
       "       'Digestive', 'Musculoskeletal', 'Missing'], dtype=object)"
      ]
     },
     "execution_count": 45,
     "metadata": {},
     "output_type": "execute_result"
    }
   ],
   "source": [
    "test = 'diag_2'\n",
    "data[test].unique()"
   ]
  },
  {
   "cell_type": "code",
   "execution_count": 46,
   "metadata": {},
   "outputs": [
    {
     "data": {
      "image/png": "[encoded data removed]",
      "text/plain": [
       "<Figure size 1400x600 with 1 Axes>"
      ]
     },
     "metadata": {},
     "output_type": "display_data"
    }
   ],
   "source": [
    "# Histogramm\n",
    "plt.figure(figsize=(14, 6))\n",
    "plt.hist(data[test], bins=(8), edgecolor='black')\n",
    "plt.title(test)\n",
    "plt.show()"
   ]
  },
  {
   "cell_type": "code",
   "execution_count": 47,
   "metadata": {
    "jp-MarkdownHeadingCollapsed": true
   },
   "outputs": [
    {
     "data": {
      "text/plain": [
       "diag_2\n",
       "Other              0.362218\n",
       "Circulatory        0.325372\n",
       "Diabetes           0.116219\n",
       "Respiratory        0.114898\n",
       "Digestive          0.038926\n",
       "Injury             0.023644\n",
       "Musculoskeletal    0.017043\n",
       "Missing            0.001680\n",
       "Name: proportion, dtype: float64"
      ]
     },
     "execution_count": 47,
     "metadata": {},
     "output_type": "execute_result"
    }
   ],
   "source": [
    "data[test].value_counts(normalize=True)"
   ]
  },
  {
   "cell_type": "code",
   "execution_count": 48,
   "metadata": {},
   "outputs": [
    {
     "data": {
      "text/plain": [
       "(24954, 27)"
      ]
     },
     "execution_count": 48,
     "metadata": {},
     "output_type": "execute_result"
    }
   ],
   "source": [
    "data = data[data['diag_2'] != 'Missing']\n",
    "data.shape"
   ]
  },
  {
   "cell_type": "code",
   "execution_count": 49,
   "metadata": {},
   "outputs": [],
   "source": [
    "# OneHotEncoder\n",
    "ohe = OneHotEncoder(sparse_output=False)\n",
    "ohe.fit(data[['diag_2']])\n",
    "data[ohe.get_feature_names_out()] = ohe.transform(data[['diag_2']])\n",
    "data = data.drop(columns = ['diag_2'])"
   ]
  },
  {
   "cell_type": "markdown",
   "metadata": {
    "jp-MarkdownHeadingCollapsed": true
   },
   "source": [
    "# diag_3"
   ]
  },
  {
   "cell_type": "code",
   "execution_count": 50,
   "metadata": {},
   "outputs": [
    {
     "data": {
      "text/plain": [
       "array(['Other', 'Circulatory', 'Diabetes', 'Respiratory', 'Injury',\n",
       "       'Musculoskeletal', 'Digestive', 'Missing'], dtype=object)"
      ]
     },
     "execution_count": 50,
     "metadata": {},
     "output_type": "execute_result"
    }
   ],
   "source": [
    "test = 'diag_3'\n",
    "data[test].unique()"
   ]
  },
  {
   "cell_type": "code",
   "execution_count": 51,
   "metadata": {},
   "outputs": [
    {
     "data": {
      "text/plain": [
       "diag_3\n",
       "Other              0.364631\n",
       "Circulatory        0.307846\n",
       "Diabetes           0.170353\n",
       "Respiratory        0.076661\n",
       "Digestive          0.036708\n",
       "Injury             0.018594\n",
       "Musculoskeletal    0.018193\n",
       "Missing            0.007013\n",
       "Name: proportion, dtype: float64"
      ]
     },
     "execution_count": 51,
     "metadata": {},
     "output_type": "execute_result"
    }
   ],
   "source": [
    "data[test].value_counts(normalize=True)"
   ]
  },
  {
   "cell_type": "code",
   "execution_count": 52,
   "metadata": {},
   "outputs": [],
   "source": [
    "# OneHotEncoder\n",
    "ohe = OneHotEncoder(sparse_output=False)\n",
    "ohe.fit(data[['diag_3']])\n",
    "data[ohe.get_feature_names_out()] = ohe.transform(data[['diag_3']])\n",
    "data = data.drop(columns = ['diag_3'])"
   ]
  },
  {
   "cell_type": "markdown",
   "metadata": {
    "jp-MarkdownHeadingCollapsed": true
   },
   "source": [
    "# glucose_test (94,5% \"no\" Test --> droped)"
   ]
  },
  {
   "cell_type": "code",
   "execution_count": 53,
   "metadata": {},
   "outputs": [
    {
     "data": {
      "text/plain": [
       "array(['no', 'normal', 'high'], dtype=object)"
      ]
     },
     "execution_count": 53,
     "metadata": {},
     "output_type": "execute_result"
    }
   ],
   "source": [
    "test = 'glucose_test'\n",
    "data[test].unique()"
   ]
  },
  {
   "cell_type": "code",
   "execution_count": 54,
   "metadata": {},
   "outputs": [
    {
     "data": {
      "text/plain": [
       "glucose_test\n",
       "no        0.944899\n",
       "normal    0.027611\n",
       "high      0.027491\n",
       "Name: proportion, dtype: float64"
      ]
     },
     "execution_count": 54,
     "metadata": {},
     "output_type": "execute_result"
    }
   ],
   "source": [
    "data[test].value_counts(normalize=True)"
   ]
  },
  {
   "cell_type": "code",
   "execution_count": 55,
   "metadata": {},
   "outputs": [],
   "source": [
    "data = data.drop(columns=['glucose_test'])"
   ]
  },
  {
   "cell_type": "markdown",
   "metadata": {
    "jp-MarkdownHeadingCollapsed": true
   },
   "source": [
    "# A1Ctest "
   ]
  },
  {
   "cell_type": "code",
   "execution_count": 57,
   "metadata": {},
   "outputs": [
    {
     "data": {
      "text/plain": [
       "array(['no', 'normal', 'high'], dtype=object)"
      ]
     },
     "execution_count": 57,
     "metadata": {},
     "output_type": "execute_result"
    }
   ],
   "source": [
    "test = 'A1Ctest'\n",
    "data[test].unique()"
   ]
  },
  {
   "cell_type": "code",
   "execution_count": 58,
   "metadata": {},
   "outputs": [
    {
     "data": {
      "text/plain": [
       "A1Ctest\n",
       "no        0.837581\n",
       "high      0.113008\n",
       "normal    0.049411\n",
       "Name: proportion, dtype: float64"
      ]
     },
     "execution_count": 58,
     "metadata": {},
     "output_type": "execute_result"
    }
   ],
   "source": [
    "data[test].value_counts(normalize=True)"
   ]
  },
  {
   "cell_type": "code",
   "execution_count": 59,
   "metadata": {},
   "outputs": [],
   "source": [
    "# OneHotEncoder\n",
    "ohe = OneHotEncoder(sparse_output=False)\n",
    "ohe.fit(data[['A1Ctest']])\n",
    "data[ohe.get_feature_names_out()] = ohe.transform(data[['A1Ctest']])\n",
    "data = data.drop(columns = ['A1Ctest'])"
   ]
  },
  {
   "cell_type": "markdown",
   "metadata": {},
   "source": [
    "# change "
   ]
  },
  {
   "cell_type": "markdown",
   "metadata": {},
   "source": [
    "\"change\" - whether there was a change in the diabetes medication ('yes' or 'no')"
   ]
  },
  {
   "cell_type": "code",
   "execution_count": 62,
   "metadata": {},
   "outputs": [
    {
     "data": {
      "text/plain": [
       "array(['no', 'yes'], dtype=object)"
      ]
     },
     "execution_count": 62,
     "metadata": {},
     "output_type": "execute_result"
    }
   ],
   "source": [
    "test = 'change'\n",
    "data[test].unique()"
   ]
  },
  {
   "cell_type": "code",
   "execution_count": 63,
   "metadata": {},
   "outputs": [
    {
     "data": {
      "text/plain": [
       "change\n",
       "no     0.539793\n",
       "yes    0.460207\n",
       "Name: proportion, dtype: float64"
      ]
     },
     "execution_count": 63,
     "metadata": {},
     "output_type": "execute_result"
    }
   ],
   "source": [
    "data[test].value_counts(normalize=True)"
   ]
  },
  {
   "cell_type": "code",
   "execution_count": 64,
   "metadata": {},
   "outputs": [],
   "source": [
    "ohe_binary = OneHotEncoder(sparse_output=False, drop=\"if_binary\") \n",
    "ohe_binary.fit(data[['change']]) \n",
    "data[ohe_binary.get_feature_names_out()] = ohe_binary.transform(data[['change']])\n",
    "data = data.drop(columns=['change'])"
   ]
  },
  {
   "cell_type": "markdown",
   "metadata": {},
   "source": [
    "# diabetes_med"
   ]
  },
  {
   "cell_type": "code",
   "execution_count": 65,
   "metadata": {},
   "outputs": [
    {
     "data": {
      "text/plain": [
       "array(['yes', 'no'], dtype=object)"
      ]
     },
     "execution_count": 65,
     "metadata": {},
     "output_type": "execute_result"
    }
   ],
   "source": [
    "test = 'diabetes_med'\n",
    "data[test].unique()"
   ]
  },
  {
   "cell_type": "code",
   "execution_count": 66,
   "metadata": {},
   "outputs": [
    {
     "data": {
      "text/plain": [
       "diabetes_med\n",
       "yes    0.769255\n",
       "no     0.230745\n",
       "Name: proportion, dtype: float64"
      ]
     },
     "execution_count": 66,
     "metadata": {},
     "output_type": "execute_result"
    }
   ],
   "source": [
    "data[test].value_counts(normalize=True)"
   ]
  },
  {
   "cell_type": "code",
   "execution_count": 67,
   "metadata": {},
   "outputs": [],
   "source": [
    "ohe_binary = OneHotEncoder(sparse_output=False, drop=\"if_binary\") \n",
    "ohe_binary.fit(data[['diabetes_med']]) \n",
    "data[ohe_binary.get_feature_names_out()] = ohe_binary.transform(data[['diabetes_med']])\n",
    "data = data.drop(columns=['diabetes_med'])"
   ]
  },
  {
   "cell_type": "markdown",
   "metadata": {},
   "source": [
    "# readmitted (TARGET)"
   ]
  },
  {
   "cell_type": "code",
   "execution_count": 69,
   "metadata": {},
   "outputs": [
    {
     "data": {
      "text/plain": [
       "array(['no', 'yes'], dtype=object)"
      ]
     },
     "execution_count": 69,
     "metadata": {},
     "output_type": "execute_result"
    }
   ],
   "source": [
    "test = 'readmitted'\n",
    "data[test].unique()"
   ]
  },
  {
   "cell_type": "code",
   "execution_count": 70,
   "metadata": {},
   "outputs": [
    {
     "data": {
      "text/plain": [
       "readmitted\n",
       "no     0.529735\n",
       "yes    0.470265\n",
       "Name: proportion, dtype: float64"
      ]
     },
     "execution_count": 70,
     "metadata": {},
     "output_type": "execute_result"
    }
   ],
   "source": [
    "data[test].value_counts(normalize=True)"
   ]
  },
  {
   "cell_type": "code",
   "execution_count": 71,
   "metadata": {},
   "outputs": [],
   "source": [
    "ohe_binary = OneHotEncoder(sparse_output=False, drop=\"if_binary\") \n",
    "ohe_binary.fit(data[['readmitted']]) \n",
    "data[ohe_binary.get_feature_names_out()] = ohe_binary.transform(data[['readmitted']])\n",
    "data = data.drop(columns=['readmitted'])"
   ]
  },
  {
   "cell_type": "code",
   "execution_count": null,
   "metadata": {},
   "outputs": [],
   "source": []
  }
 ],
 "metadata": {
  "kernelspec": {
   "display_name": "Python 3 (ipykernel)",
   "language": "python",
   "name": "python3"
  },
  "language_info": {
   "codemirror_mode": {
    "name": "ipython",
    "version": 3
   },
   "file_extension": ".py",
   "mimetype": "text/x-python",
   "name": "python",
   "nbconvert_exporter": "python",
   "pygments_lexer": "ipython3",
   "version": "3.10.6"
  }
 },
 "nbformat": 4,
 "nbformat_minor": 4
}
